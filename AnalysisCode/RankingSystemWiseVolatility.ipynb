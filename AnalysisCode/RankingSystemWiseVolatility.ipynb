{
 "cells": [
  {
   "cell_type": "code",
   "execution_count": 15,
   "metadata": {
    "collapsed": true
   },
   "outputs": [],
   "source": [
    "import pandas as pd\n",
    "import numpy as np"
   ]
  },
  {
   "cell_type": "code",
   "execution_count": 2,
   "metadata": {
    "collapsed": true
   },
   "outputs": [],
   "source": [
    "rank_all = pd.read_csv('rank_all.csv')"
   ]
  },
  {
   "cell_type": "code",
   "execution_count": 4,
   "metadata": {
    "collapsed": false
   },
   "outputs": [],
   "source": [
    "times_rank = rank_all[['institution', 'times_2011_r', 'times_2012_r', 'times_2013_r', 'times_2014_r', 'times_2015_r', 'times_2016_r']]\n",
    "times_rank = times_rank.set_index('institution')\n",
    "times_top_100 = times_rank.sort_values(by = 'times_2011_r').dropna(how = 'all')[:100]\n",
    "times_top_100['rank_std'] = times_top_100.std(axis = 1)\n",
    "times_top_100['rank_var'] = times_top_100.drop('rank_std', 1).var(axis = 1)"
   ]
  },
  {
   "cell_type": "code",
   "execution_count": 17,
   "metadata": {
    "collapsed": false
   },
   "outputs": [
    {
     "data": {
      "text/plain": [
       "(100, 8)"
      ]
     },
     "execution_count": 17,
     "metadata": {},
     "output_type": "execute_result"
    }
   ],
   "source": [
    "#times_top_100"
   ]
  },
  {
   "cell_type": "code",
   "execution_count": 7,
   "metadata": {
    "collapsed": true
   },
   "outputs": [],
   "source": [
    "cwur_rank = rank_all[['institution', 'cwur_2012_r', 'cwur_2013_r', 'cwur_2014_r', 'cwur_2015_r']]\n",
    "cwur_rank = cwur_rank.set_index('institution')\n",
    "cwur_top_100 = cwur_rank.sort_values(by = 'cwur_2012_r').dropna(how = 'all')[:100]\n",
    "cwur_top_100['rank_std'] = cwur_top_100.std(axis = 1)\n",
    "cwur_top_100['rank_var'] = cwur_top_100.drop('rank_std', 1).var(axis = 1)"
   ]
  },
  {
   "cell_type": "code",
   "execution_count": 19,
   "metadata": {
    "collapsed": false
   },
   "outputs": [],
   "source": [
    "#cwur_top_100"
   ]
  },
  {
   "cell_type": "code",
   "execution_count": 11,
   "metadata": {
    "collapsed": false
   },
   "outputs": [],
   "source": [
    "shanghai_rank = rank_all[['institution', 'sh_2011_r', 'sh_2012_r', 'sh_2013_r', 'sh_2014_r', 'sh_2015_r']]\n",
    "shanghai_rank = shanghai_rank.set_index('institution')\n",
    "shanghai_top_100 = shanghai_rank.sort_values(by = 'sh_2012_r').dropna(how = 'all')[:100]\n",
    "shanghai_top_100['rank_std'] = shanghai_top_100.std(axis = 1)\n",
    "shanghai_top_100['rank_var'] = shanghai_top_100.drop('rank_std', 1).var(axis = 1)"
   ]
  },
  {
   "cell_type": "code",
   "execution_count": 20,
   "metadata": {
    "collapsed": false
   },
   "outputs": [
    {
     "data": {
      "text/plain": [
       "(100, 7)"
      ]
     },
     "execution_count": 20,
     "metadata": {},
     "output_type": "execute_result"
    }
   ],
   "source": [
    "#shanghai_top_100"
   ]
  },
  {
   "cell_type": "code",
   "execution_count": 16,
   "metadata": {
    "collapsed": false
   },
   "outputs": [
    {
     "name": "stdout",
     "output_type": "stream",
     "text": [
      "Average volatility in the 'Times' ranking system is 20.1776134202\n",
      "Average volatility in the 'Shanghai' ranking system is 6.92602278849\n",
      "Average volatility in the 'CWUR' ranking system is 11.9001174201\n"
     ]
    }
   ],
   "source": [
    "print \"Average volatility in the 'Times' ranking system is \" + str(np.sqrt(np.mean(times_top_100['rank_var'])))\n",
    "print \"Average volatility in the 'Shanghai' ranking system is \" + str(np.sqrt(np.mean(shanghai_top_100['rank_var'])))\n",
    "print \"Average volatility in the 'CWUR' ranking system is \" + str(np.sqrt(np.mean(cwur_top_100['rank_var'])))"
   ]
  },
  {
   "cell_type": "code",
   "execution_count": null,
   "metadata": {
    "collapsed": true
   },
   "outputs": [],
   "source": []
  }
 ],
 "metadata": {
  "kernelspec": {
   "display_name": "Python 2",
   "language": "python",
   "name": "python2"
  },
  "language_info": {
   "codemirror_mode": {
    "name": "ipython",
    "version": 2
   },
   "file_extension": ".py",
   "mimetype": "text/x-python",
   "name": "python",
   "nbconvert_exporter": "python",
   "pygments_lexer": "ipython2",
   "version": "2.7.11"
  }
 },
 "nbformat": 4,
 "nbformat_minor": 0
}
